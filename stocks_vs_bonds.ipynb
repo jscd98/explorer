{
  "nbformat": 4,
  "nbformat_minor": 0,
  "metadata": {
    "colab": {
      "provenance": [],
      "include_colab_link": true
    },
    "kernelspec": {
      "name": "python3",
      "display_name": "Python 3"
    },
    "language_info": {
      "name": "python"
    }
  },
  "cells": [
    {
      "cell_type": "markdown",
      "metadata": {
        "id": "view-in-github",
        "colab_type": "text"
      },
      "source": [
        "<a href=\"https://colab.research.google.com/github/jscd98/explorer/blob/main/stocks_vs_bonds.ipynb\" target=\"_parent\"><img src=\"https://colab.research.google.com/assets/colab-badge.svg\" alt=\"Open In Colab\"/></a>"
      ]
    },
    {
      "cell_type": "code",
      "execution_count": null,
      "metadata": {
        "id": "MXCi7Iq4n2IB"
      },
      "outputs": [],
      "source": [
        "################################\n",
        "### stocks vs bonds strategy ###\n",
        "################################\n",
        "\n",
        "'''\n",
        "Strategy calculates the momentum for all three assets; stocks, bonds & cash.\n",
        "It allocates a larger allocation to the highest positive momentum score & a smaller\n",
        "allocation to the 2nd best positive momentum score. Any unallocated amounts are put into cash.\n",
        "The user simply needs to pick the assest for their exposure to Stocks, Bonds & Cash & also the ratio\n",
        "of large vs small allocation. Default is SPY, TLT & BIL and 80% vs 20%.\n",
        "'''\n",
        "\n",
        "# Select tickers for 'Stocks', 'Bond' & 'Cash'\n",
        "stocks = 'SPY'\n",
        "bonds = 'IEF'\n",
        "cash = 'BIL'\n",
        "\n",
        "# Select ratio for large & small allocation.\n",
        "large_allocation = 0.80\n",
        "small_allocation = 0.20\n",
        "\n",
        "# Filter etf price history for the tickers selected\n",
        "svb_ticker_list = [stocks, bonds, cash]\n",
        "svb_rtn = etf_pct_returns[svb_ticker_list]\n",
        "\n",
        "# Calculate the momentum score defined by 'calculate_mom13612E' above\n",
        "svb_mom_score = momentum_score[svb_ticker_list]\n",
        "\n",
        "# Create a masking scheme to apply the rules defined above, this gives a dataframe of weights 'svb_selection'\n",
        "  # Create df populated with 0's, that is the same size as the 'svb_mom_score'\n",
        "svb_selection = pd.DataFrame(0, index=svb_mom_score.index,\n",
        "                             columns=svb_mom_score.columns)\n",
        "  # Mask Stocks' column depending on it's momentum score\n",
        "svb_stock_mask = ((svb_mom_score[stocks] > svb_mom_score[bonds]) & (svb_mom_score[stocks] > 0)) * large_allocation + (\n",
        "            (svb_mom_score[stocks] < svb_mom_score[bonds]) & (svb_mom_score[stocks] > 0)) * small_allocation\n",
        "svb_selection[stocks] = svb_stock_mask\n",
        "  # Mask 'bond' column depending on it's momentum score\n",
        "svb_bond_mask = ((svb_mom_score[bonds] > svb_mom_score[stocks]) & (svb_mom_score[bonds] > 0)) * large_allocation + (\n",
        "        (svb_mom_score[bonds] < svb_mom_score[stocks]) & (svb_mom_score[bonds] > 0)) * small_allocation\n",
        "svb_selection[bonds] = svb_bond_mask\n",
        "  # Mask the Cash column with 1 - the sum of the values allocated to stocks & bonds (if any)\n",
        "svb_selection[cash] = 1 - svb_selection[[stocks, bonds]].sum(axis=1)\n",
        "\n",
        "# Returns a dataframe of asset allocation weights as specified by the calculations above\n",
        "svb_weights = svb_selection[svb_selection.index >= start_date_plus_12m]\n",
        "svb_returns = (svb_weights.shift(1) * svb_rtn[svb_rtn.index >= start_date_plus_12m]).sum(axis=1)\n",
        "svb_cum_sum  = (1 + svb_returns).cumprod()\n",
        "# qs.reports.full(svb_returns)\n",
        "# print(svb_cum_sum.to_string())\n",
        "\n",
        "from matplotlib import pyplot as plt\n",
        "svb_cum_sum.plot(kind='line', figsize=(8, 4), title='SVB P&L')\n",
        "plt.yscale('log')\n",
        "plt.gca().spines[['top', 'right']].set_visible(False)"
      ]
    }
  ]
}